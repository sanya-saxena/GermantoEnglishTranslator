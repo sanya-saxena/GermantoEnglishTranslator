{
 "cells": [
  {
   "cell_type": "code",
   "execution_count": 1,
   "metadata": {},
   "outputs": [],
   "source": [
    "import string\n",
    "import re\n",
    "from pickle import dump\n",
    "from unicodedata import normalize\n",
    "from numpy import array\n",
    "from numpy.random import rand\n",
    "from numpy.random import shuffle "
   ]
  },
  {
   "cell_type": "code",
   "execution_count": 2,
   "metadata": {},
   "outputs": [],
   "source": [
    "# load doc into memory\n",
    "def load_doc(filename):\n",
    "    # open the file as read only\n",
    "    file = open(filename, mode='rt', encoding='utf-8')\n",
    "    # read all text\n",
    "    text = file.read()\n",
    "    # close the file\n",
    "    file.close()\n",
    "    return text"
   ]
  },
  {
   "cell_type": "code",
   "execution_count": 3,
   "metadata": {},
   "outputs": [],
   "source": [
    "# split a loaded document into sentences\n",
    "def to_pairs(doc):\n",
    "    lines = doc.strip().split('\\n')\n",
    "    pairs = [line.split('\\t') for line in  lines]\n",
    "    return pairs\n",
    " "
   ]
  },
  {
   "cell_type": "code",
   "execution_count": 4,
   "metadata": {},
   "outputs": [],
   "source": [
    "#from unicodedata import normalize\n",
    "# clean a list of lines\n",
    "def clean_pairs(lines):\n",
    "    cleaned = list()\n",
    "    # prepare regex for char filtering\n",
    "    re_print = re.compile('[^%s]' % re.escape(string.printable))\n",
    "    # prepare translation table for removing punctuation\n",
    "    table = str.maketrans('', '', string.punctuation)\n",
    "    for pair in lines:\n",
    "        clean_pair = list()\n",
    "        for line in pair:\n",
    "            # normalize unicode characters\n",
    "            line = normalize('NFD', line).encode('ascii', 'ignore')\n",
    "            line = line.decode('UTF-8')\n",
    "            # tokenize on white space\n",
    "            line = line.split()\n",
    "            # convert to lowercase\n",
    "            line = [word.lower() for word in line]\n",
    "            # remove punctuation from each token\n",
    "            line = [word.translate(table) for word in line]\n",
    "            # remove non-printable chars form each token\n",
    "            line = [re_print.sub('', w) for w in line]\n",
    "            # remove tokens with numbers in them\n",
    "            line = [word for word in line if word.isalpha()]\n",
    "            # store as string\n",
    "            clean_pair.append(' '.join(line))\n",
    "        cleaned.append(clean_pair)\n",
    "    return array(cleaned)\n",
    " "
   ]
  },
  {
   "cell_type": "code",
   "execution_count": 5,
   "metadata": {},
   "outputs": [],
   "source": [
    "# save a list of clean sentences to file\n",
    "def save_clean_data(sentences, filename):\n",
    "    dump(sentences, open(filename, 'wb'))\n",
    "    print('Saved: %s' % filename)"
   ]
  },
  {
   "cell_type": "code",
   "execution_count": 6,
   "metadata": {},
   "outputs": [
    {
     "name": "stdout",
     "output_type": "stream",
     "text": [
      "Saved: english-german.pkl\n",
      "[hi] => [hallo]\n",
      "[hi] => [gru gott]\n",
      "[run] => [lauf]\n",
      "[fire] => [feuer]\n",
      "[help] => [hilfe]\n",
      "[help] => [zu hulf]\n",
      "[stop] => [stopp]\n",
      "[wait] => [warte]\n",
      "[go on] => [mach weiter]\n",
      "[hello] => [hallo]\n"
     ]
    }
   ],
   "source": [
    "# load dataset\n",
    "filename = 'deu.txt'\n",
    "doc = load_doc(filename)\n",
    "# split into english-german pairs\n",
    "pairs = to_pairs(doc)\n",
    "# clean sentences\n",
    "clean_pairs = clean_pairs(pairs)\n",
    "# save clean pairs to file\n",
    "save_clean_data(clean_pairs, 'english-german.pkl')\n",
    "# spot check\n",
    "for i in range(10):\n",
    "    print('[%s] => [%s]' % (clean_pairs[i,0], clean_pairs[i,1]))"
   ]
  },
  {
   "cell_type": "code",
   "execution_count": 7,
   "metadata": {},
   "outputs": [],
   "source": [
    "from pickle import load\n",
    "from pickle import dump\n",
    "from numpy.random import rand\n",
    "from numpy.random import shuffle"
   ]
  },
  {
   "cell_type": "code",
   "execution_count": 8,
   "metadata": {},
   "outputs": [],
   "source": [
    "#loading cleaned data\n",
    "def load_clean_sentences(filename):\n",
    "    return load(open(filename, 'rb'))"
   ]
  },
  {
   "cell_type": "code",
   "execution_count": 9,
   "metadata": {},
   "outputs": [],
   "source": [
    "# save a list of clean sentences to file\n",
    "def save_clean_data(sentences, filename):\n",
    "    dump(sentences, open(filename, 'wb'))\n",
    "    print('Saved: %s' % filename)"
   ]
  },
  {
   "cell_type": "code",
   "execution_count": 10,
   "metadata": {},
   "outputs": [],
   "source": [
    "# load dataset\n",
    "raw_dataset = load_clean_sentences('english-german.pkl')"
   ]
  },
  {
   "cell_type": "code",
   "execution_count": 11,
   "metadata": {},
   "outputs": [
    {
     "name": "stdout",
     "output_type": "stream",
     "text": [
      "Saved: english-german-both.pkl\n",
      "Saved: english-german-train.pkl\n",
      "Saved: english-german-test.pkl\n"
     ]
    }
   ],
   "source": [
    "# reduce dataset size\n",
    "n_sentences = 10000\n",
    "dataset = raw_dataset[:n_sentences, :]\n",
    "# random shuffle\n",
    "shuffle(dataset)\n",
    "# split into train/test\n",
    "train, test = dataset[:9000], dataset[9000:]\n",
    "# save\n",
    "save_clean_data(dataset, 'english-german-both.pkl')\n",
    "save_clean_data(train, 'english-german-train.pkl')\n",
    "save_clean_data(test, 'english-german-test.pkl')"
   ]
  },
  {
   "cell_type": "code",
   "execution_count": 12,
   "metadata": {},
   "outputs": [
    {
     "name": "stderr",
     "output_type": "stream",
     "text": [
      "D:\\Anaconda_folder\\lib\\site-packages\\h5py\\__init__.py:36: FutureWarning: Conversion of the second argument of issubdtype from `float` to `np.floating` is deprecated. In future, it will be treated as `np.float64 == np.dtype(float).type`.\n",
      "  from ._conv import register_converters as _register_converters\n",
      "Using TensorFlow backend.\n"
     ]
    }
   ],
   "source": [
    "from keras.preprocessing.text import Tokenizer\n",
    "from keras.preprocessing.sequence import pad_sequences\n",
    "from keras.utils import to_categorical\n",
    "from keras.utils.vis_utils import plot_model\n",
    "from keras.models import Sequential\n",
    "from keras.layers import LSTM\n",
    "from keras.layers import Dense\n",
    "from keras.layers import Embedding\n",
    "from keras.layers import RepeatVector\n",
    "from keras.layers import TimeDistributed\n",
    "from keras.callbacks import ModelCheckpoint"
   ]
  },
  {
   "cell_type": "code",
   "execution_count": 13,
   "metadata": {},
   "outputs": [],
   "source": [
    "# fit a tokenizer\n",
    "def create_tokenizer(lines):\n",
    "    tokenizer = Tokenizer()\n",
    "    tokenizer.fit_on_texts(lines)\n",
    "    return tokenizer"
   ]
  },
  {
   "cell_type": "code",
   "execution_count": 14,
   "metadata": {},
   "outputs": [],
   "source": [
    "# max sentence length\n",
    "def max_length(lines):\n",
    "    return max(len(line.split()) for line in lines)"
   ]
  },
  {
   "cell_type": "code",
   "execution_count": 15,
   "metadata": {},
   "outputs": [],
   "source": [
    "# encode and pad sequences\n",
    "def encode_sequences(tokenizer, length, lines):\n",
    "    # integer encode sequences\n",
    "    X = tokenizer.texts_to_sequences(lines)\n",
    "    # pad sequences with 0 values\n",
    "    X = pad_sequences(X, maxlen=length, padding='post')\n",
    "    return X"
   ]
  },
  {
   "cell_type": "code",
   "execution_count": 16,
   "metadata": {},
   "outputs": [],
   "source": [
    "# one hot encode target sequence\n",
    "def encode_output(sequences, vocab_size):\n",
    "    ylist = list()\n",
    "    for sequence in sequences:\n",
    "        encoded = to_categorical(sequence, num_classes=vocab_size)\n",
    "        ylist.append(encoded)\n",
    "    y = array(ylist)\n",
    "    y = y.reshape(sequences.shape[0], sequences.shape[1], vocab_size)\n",
    "    return y"
   ]
  },
  {
   "cell_type": "code",
   "execution_count": 17,
   "metadata": {},
   "outputs": [],
   "source": [
    "# define NMT model\n",
    "def define_model(src_vocab, tar_vocab, src_timesteps, tar_timesteps, n_units):\n",
    "    model = Sequential()\n",
    "    model.add(Embedding(src_vocab, n_units, input_length=src_timesteps, mask_zero=True))\n",
    "    model.add(LSTM(n_units))\n",
    "    model.add(RepeatVector(tar_timesteps))\n",
    "    model.add(LSTM(n_units, return_sequences=True))\n",
    "    model.add(TimeDistributed(Dense(tar_vocab, activation='softmax')))\n",
    "    return model"
   ]
  },
  {
   "cell_type": "code",
   "execution_count": 18,
   "metadata": {},
   "outputs": [],
   "source": [
    "# load datasets\n",
    "dataset = load_clean_sentences('english-german-both.pkl')\n",
    "train = load_clean_sentences('english-german-train.pkl')\n",
    "test = load_clean_sentences('english-german-test.pkl')"
   ]
  },
  {
   "cell_type": "code",
   "execution_count": 19,
   "metadata": {},
   "outputs": [
    {
     "name": "stdout",
     "output_type": "stream",
     "text": [
      "English Vocabulary Size: 2315\n",
      "English Max Length: 5\n"
     ]
    }
   ],
   "source": [
    "# prepare english tokenizer\n",
    "eng_tokenizer = create_tokenizer(dataset[:, 0])\n",
    "eng_vocab_size = len(eng_tokenizer.word_index) + 1\n",
    "eng_length = max_length(dataset[:, 0])\n",
    "print('English Vocabulary Size: %d' % eng_vocab_size)\n",
    "print('English Max Length: %d' % (eng_length))"
   ]
  },
  {
   "cell_type": "code",
   "execution_count": 20,
   "metadata": {},
   "outputs": [
    {
     "name": "stdout",
     "output_type": "stream",
     "text": [
      "German Vocabulary Size: 3686\n",
      "German Max Length: 10\n"
     ]
    }
   ],
   "source": [
    "# prepare german tokenizer\n",
    "ger_tokenizer = create_tokenizer(dataset[:, 1])\n",
    "ger_vocab_size = len(ger_tokenizer.word_index) + 1\n",
    "ger_length = max_length(dataset[:, 1])\n",
    "print('German Vocabulary Size: %d' % ger_vocab_size)\n",
    "print('German Max Length: %d' % (ger_length))"
   ]
  },
  {
   "cell_type": "code",
   "execution_count": 65,
   "metadata": {},
   "outputs": [
    {
     "data": {
      "text/plain": [
       "([<matplotlib.patches.Wedge at 0x1ea8cdb3ef0>,\n",
       "  <matplotlib.patches.Wedge at 0x1ea8cdbb400>],\n",
       " [Text(0.386335,1.02992,'English Words'),\n",
       "  Text(-0.386335,-1.02992,'German Words')])"
      ]
     },
     "execution_count": 65,
     "metadata": {},
     "output_type": "execute_result"
    },
    {
     "data": {
      "image/png": "[encoded data removed]",
      "text/plain": [
       "<Figure size 432x288 with 1 Axes>"
      ]
     },
     "metadata": {},
     "output_type": "display_data"
    }
   ],
   "source": [
    "#Analysis of English and German Words\n",
    "import matplotlib.pyplot as plt\n",
    "%matplotlib inline\n",
    "plt.title('Number of words present in the dataset')\n",
    "x = [eng_vocab_size,ger_vocab_size]\n",
    "plt.pie(x,labels = ['English Words','German Words'])"
   ]
  },
  {
   "cell_type": "code",
   "execution_count": 21,
   "metadata": {},
   "outputs": [],
   "source": [
    "# prepare training data\n",
    "trainX = encode_sequences(ger_tokenizer, ger_length, train[:, 1])\n",
    "trainY = encode_sequences(eng_tokenizer, eng_length, train[:, 0])\n",
    "trainY = encode_output(trainY, eng_vocab_size)"
   ]
  },
  {
   "cell_type": "code",
   "execution_count": 22,
   "metadata": {},
   "outputs": [],
   "source": [
    "# prepare validation data\n",
    "testX = encode_sequences(ger_tokenizer, ger_length, test[:, 1])\n",
    "testY = encode_sequences(eng_tokenizer, eng_length, test[:, 0])\n",
    "testY = encode_output(testY, eng_vocab_size)"
   ]
  },
  {
   "cell_type": "code",
   "execution_count": 115,
   "metadata": {},
   "outputs": [
    {
     "name": "stdout",
     "output_type": "stream",
     "text": [
      "_________________________________________________________________\n",
      "Layer (type)                 Output Shape              Param #   \n",
      "=================================================================\n",
      "embedding_4 (Embedding)      (None, 10, 256)           943616    \n",
      "_________________________________________________________________\n",
      "lstm_7 (LSTM)                (None, 256)               525312    \n",
      "_________________________________________________________________\n",
      "repeat_vector_4 (RepeatVecto (None, 5, 256)            0         \n",
      "_________________________________________________________________\n",
      "lstm_8 (LSTM)                (None, 5, 256)            525312    \n",
      "_________________________________________________________________\n",
      "time_distributed_4 (TimeDist (None, 5, 2315)           594955    \n",
      "=================================================================\n",
      "Total params: 2,589,195\n",
      "Trainable params: 2,589,195\n",
      "Non-trainable params: 0\n",
      "_________________________________________________________________\n",
      "None\n"
     ]
    }
   ],
   "source": [
    "# define model\n",
    "model = define_model(ger_vocab_size, eng_vocab_size, ger_length, eng_length, 256)\n",
    "model.compile(optimizer='adam', loss='categorical_crossentropy')\n",
    "# summarize defined model\n",
    "print(model.summary())"
   ]
  },
  {
   "cell_type": "code",
   "execution_count": 116,
   "metadata": {},
   "outputs": [],
   "source": [
    "from keras.models import load_model\n",
    "from nltk.translate.bleu_score import corpus_bleu\n",
    "from numpy import argmax"
   ]
  },
  {
   "cell_type": "code",
   "execution_count": 117,
   "metadata": {},
   "outputs": [],
   "source": [
    "# generate target given source sequence\n",
    "def predict_sequence(model, tokenizer, source):\n",
    "    prediction = model.predict(source, verbose=0)[0]\n",
    "    integers = [argmax(vector) for vector in prediction]\n",
    "    target = list()\n",
    "    for i in integers:\n",
    "        word = word_for_id(i, tokenizer)\n",
    "        if word is None:\n",
    "            break\n",
    "        target.append(word)\n",
    "    return ' '.join(target)"
   ]
  },
  {
   "cell_type": "code",
   "execution_count": 118,
   "metadata": {},
   "outputs": [],
   "source": [
    "# evaluate the skill of the model\n",
    "\n",
    "from nltk.translate.bleu_score import SmoothingFunction\n",
    "def evaluate_model(model, tokenizer, sources, raw_dataset):\n",
    "    actual, predicted = list(), list()\n",
    "    for i, source in enumerate(sources):\n",
    "        # translate encoded source text\n",
    "        source = source.reshape((1, source.shape[0]))\n",
    "        translation = predict_sequence(model, eng_tokenizer, source)\n",
    "        raw_target, raw_src = raw_dataset[i]\n",
    "        if i < 10:\n",
    "            print('German: %s,\\nCorrect English Translation=%s,\\nPredicted English Translation=%s\\n' % (raw_src, raw_target, translation))\n",
    "        actual.append(raw_target.split())\n",
    "        predicted.append(translation.split())\n",
    "    # calculate BLEU score\n",
    "    print('BLEU Score: %f' % corpus_bleu(actual, predicted, weights=(0.3, 0.3, 0.3, 0),smoothing_function=SmoothingFunction().method4))\n",
    "    "
   ]
  },
  {
   "cell_type": "code",
   "execution_count": 119,
   "metadata": {},
   "outputs": [],
   "source": [
    "# load datasets\n",
    "dataset = load_clean_sentences('english-german-both.pkl')\n",
    "train = load_clean_sentences('english-german-train.pkl')\n",
    "test = load_clean_sentences('english-german-test.pkl')"
   ]
  },
  {
   "cell_type": "code",
   "execution_count": 120,
   "metadata": {},
   "outputs": [],
   "source": [
    "# prepare english tokenizer\n",
    "eng_tokenizer = create_tokenizer(dataset[:, 0])\n",
    "eng_vocab_size = len(eng_tokenizer.word_index) + 1\n",
    "eng_length = max_length(dataset[:, 0])"
   ]
  },
  {
   "cell_type": "code",
   "execution_count": 121,
   "metadata": {},
   "outputs": [],
   "source": [
    "# prepare german tokenizer\n",
    "ger_tokenizer = create_tokenizer(dataset[:, 1])\n",
    "ger_vocab_size = len(ger_tokenizer.word_index) + 1\n",
    "ger_length = max_length(dataset[:, 1])"
   ]
  },
  {
   "cell_type": "code",
   "execution_count": 122,
   "metadata": {},
   "outputs": [],
   "source": [
    "# prepare data\n",
    "trainX = encode_sequences(ger_tokenizer, ger_length, train[:, 1])\n",
    "testX = encode_sequences(ger_tokenizer, ger_length, test[:, 1])"
   ]
  },
  {
   "cell_type": "code",
   "execution_count": 123,
   "metadata": {},
   "outputs": [
    {
     "name": "stdout",
     "output_type": "stream",
     "text": [
      "TRAINING DATASET:\n",
      "\n",
      "German: ist das fur mich,\n",
      "Correct English Translation=is it for me,\n",
      "Predicted English Translation=punched punched punched punched punched\n",
      "\n",
      "German: ich habe kaviar gegessen,\n",
      "Correct English Translation=i ate caviar,\n",
      "Predicted English Translation=for for for for for\n",
      "\n",
      "German: das ist eine pflanze,\n",
      "Correct English Translation=its a plant,\n",
      "Predicted English Translation=foot brazil brazil brazil brazil\n",
      "\n",
      "German: das ist ein tisch,\n",
      "Correct English Translation=that is a table,\n",
      "Predicted English Translation=having having having having having\n",
      "\n",
      "German: sie schoss auf ihn,\n",
      "Correct English Translation=she shot him,\n",
      "Predicted English Translation=pick pick right right right\n",
      "\n",
      "German: du bist durchtrieben,\n",
      "Correct English Translation=youre sharp,\n",
      "Predicted English Translation=warm slapped slapped slapped slapped\n",
      "\n",
      "German: entledigen sie sich ihrer,\n",
      "Correct English Translation=get rid of her,\n",
      "Predicted English Translation=rice rice rice rice rice\n",
      "\n",
      "German: rate wer ich bin,\n",
      "Correct English Translation=guess who i am,\n",
      "Predicted English Translation=nothing nothing nothing remove remove\n",
      "\n",
      "German: tom kann antworten,\n",
      "Correct English Translation=tom can answer,\n",
      "Predicted English Translation=having having having having having\n",
      "\n",
      "German: ich bin so glucklich,\n",
      "Correct English Translation=im so happy,\n",
      "Predicted English Translation=aah aah aah aah aah\n",
      "\n",
      "BLEU Score: 0.022423\n"
     ]
    }
   ],
   "source": [
    "# test on some training sequences before training\n",
    "print('TRAINING DATASET:\\n')\n",
    "evaluate_model(model, eng_tokenizer, trainX, train)"
   ]
  },
  {
   "cell_type": "code",
   "execution_count": 124,
   "metadata": {},
   "outputs": [
    {
     "name": "stdout",
     "output_type": "stream",
     "text": [
      "TESTING DATASET:\n",
      "\n",
      "German: tom kennt pistolen,\n",
      "Correct English Translation=tom knows guns,\n",
      "Predicted English Translation=behave behave thief thief thief\n",
      "\n",
      "German: tom ist brav,\n",
      "Correct English Translation=tom is good,\n",
      "Predicted English Translation=whose whose their their their\n",
      "\n",
      "German: tom hat verloren,\n",
      "Correct English Translation=tom lost,\n",
      "Predicted English Translation=undressing undressing undressing undressing undressing\n",
      "\n",
      "German: wer ist gefallen,\n",
      "Correct English Translation=who fell,\n",
      "Predicted English Translation=tell tell tell klutz klutz\n",
      "\n",
      "German: tom kennt mich,\n",
      "Correct English Translation=tom knows me,\n",
      "Predicted English Translation=inside cost seven seven seven\n",
      "\n",
      "German: sie sind wach,\n",
      "Correct English Translation=theyre awake,\n",
      "Predicted English Translation=obese obese obese obese obese\n",
      "\n",
      "German: dort ist tom,\n",
      "Correct English Translation=theres tom,\n",
      "Predicted English Translation=pie after after after after\n",
      "\n",
      "German: wir schauten nach oben,\n",
      "Correct English Translation=we looked up,\n",
      "Predicted English Translation=gasped gasped gasped gasped gasped\n",
      "\n",
      "German: kannst du mir helfen,\n",
      "Correct English Translation=can you help me,\n",
      "Predicted English Translation=girls girls girls girls girls\n",
      "\n",
      "German: es muss hier sein,\n",
      "Correct English Translation=it must be here,\n",
      "Predicted English Translation=my my my my my\n",
      "\n",
      "BLEU Score: 0.000000\n"
     ]
    }
   ],
   "source": [
    "# test on some test sequences before training\n",
    "print('TESTING DATASET:\\n')\n",
    "evaluate_model(model, eng_tokenizer, testX, test)"
   ]
  },
  {
   "cell_type": "code",
   "execution_count": 125,
   "metadata": {},
   "outputs": [
    {
     "name": "stdout",
     "output_type": "stream",
     "text": [
      "Train on 9000 samples, validate on 1000 samples\n",
      "Epoch 1/20\n",
      " - 80s - loss: 3.9660 - val_loss: 3.4799\n",
      "\n",
      "Epoch 00001: val_loss improved from inf to 3.47994, saving model to model.h5\n",
      "Epoch 2/20\n",
      " - 69s - loss: 3.2947 - val_loss: 3.2883\n",
      "\n",
      "Epoch 00002: val_loss improved from 3.47994 to 3.28833, saving model to model.h5\n",
      "Epoch 3/20\n",
      " - 70s - loss: 3.0464 - val_loss: 3.1356\n",
      "\n",
      "Epoch 00003: val_loss improved from 3.28833 to 3.13564, saving model to model.h5\n",
      "Epoch 4/20\n",
      " - 71s - loss: 2.8106 - val_loss: 2.9747\n",
      "\n",
      "Epoch 00004: val_loss improved from 3.13564 to 2.97471, saving model to model.h5\n",
      "Epoch 5/20\n",
      " - 71s - loss: 2.6042 - val_loss: 2.8439\n",
      "\n",
      "Epoch 00005: val_loss improved from 2.97471 to 2.84391, saving model to model.h5\n",
      "Epoch 6/20\n",
      " - 69s - loss: 2.3833 - val_loss: 2.6791\n",
      "\n",
      "Epoch 00006: val_loss improved from 2.84391 to 2.67905, saving model to model.h5\n",
      "Epoch 7/20\n",
      " - 70s - loss: 2.1647 - val_loss: 2.5472\n",
      "\n",
      "Epoch 00007: val_loss improved from 2.67905 to 2.54723, saving model to model.h5\n",
      "Epoch 8/20\n",
      " - 70s - loss: 1.9734 - val_loss: 2.4509\n",
      "\n",
      "Epoch 00008: val_loss improved from 2.54723 to 2.45092, saving model to model.h5\n",
      "Epoch 9/20\n",
      " - 69s - loss: 1.7979 - val_loss: 2.3773\n",
      "\n",
      "Epoch 00009: val_loss improved from 2.45092 to 2.37728, saving model to model.h5\n",
      "Epoch 10/20\n",
      " - 70s - loss: 1.6359 - val_loss: 2.3322\n",
      "\n",
      "Epoch 00010: val_loss improved from 2.37728 to 2.33218, saving model to model.h5\n",
      "Epoch 11/20\n",
      " - 73s - loss: 1.4865 - val_loss: 2.2641\n",
      "\n",
      "Epoch 00011: val_loss improved from 2.33218 to 2.26409, saving model to model.h5\n",
      "Epoch 12/20\n",
      " - 70s - loss: 1.3486 - val_loss: 2.2128\n",
      "\n",
      "Epoch 00012: val_loss improved from 2.26409 to 2.21284, saving model to model.h5\n",
      "Epoch 13/20\n",
      " - 70s - loss: 1.2166 - val_loss: 2.1760\n",
      "\n",
      "Epoch 00013: val_loss improved from 2.21284 to 2.17600, saving model to model.h5\n",
      "Epoch 14/20\n",
      " - 72s - loss: 1.0917 - val_loss: 2.1562\n",
      "\n",
      "Epoch 00014: val_loss improved from 2.17600 to 2.15623, saving model to model.h5\n",
      "Epoch 15/20\n",
      " - 72s - loss: 0.9803 - val_loss: 2.1309\n",
      "\n",
      "Epoch 00015: val_loss improved from 2.15623 to 2.13090, saving model to model.h5\n",
      "Epoch 16/20\n",
      " - 72s - loss: 0.8758 - val_loss: 2.1111\n",
      "\n",
      "Epoch 00016: val_loss improved from 2.13090 to 2.11114, saving model to model.h5\n",
      "Epoch 17/20\n",
      " - 72s - loss: 0.7796 - val_loss: 2.0894\n",
      "\n",
      "Epoch 00017: val_loss improved from 2.11114 to 2.08944, saving model to model.h5\n",
      "Epoch 18/20\n",
      " - 70s - loss: 0.6934 - val_loss: 2.0867\n",
      "\n",
      "Epoch 00018: val_loss improved from 2.08944 to 2.08665, saving model to model.h5\n",
      "Epoch 19/20\n",
      " - 72s - loss: 0.6170 - val_loss: 2.0865\n",
      "\n",
      "Epoch 00019: val_loss improved from 2.08665 to 2.08646, saving model to model.h5\n",
      "Epoch 20/20\n",
      " - 71s - loss: 0.5437 - val_loss: 2.0831\n",
      "\n",
      "Epoch 00020: val_loss improved from 2.08646 to 2.08315, saving model to model.h5\n"
     ]
    },
    {
     "data": {
      "text/plain": [
       "<keras.callbacks.History at 0x1ea9c064e80>"
      ]
     },
     "execution_count": 125,
     "metadata": {},
     "output_type": "execute_result"
    }
   ],
   "source": [
    "#training the model\n",
    "filename = 'model.h5'\n",
    "checkpoint = ModelCheckpoint(filename, monitor='val_loss', verbose=1, save_best_only=True, mode='min')\n",
    "model.fit(trainX, trainY, epochs=20, batch_size=32, validation_data=(testX, testY), callbacks=[checkpoint], verbose=2)"
   ]
  },
  {
   "cell_type": "code",
   "execution_count": 126,
   "metadata": {},
   "outputs": [],
   "source": [
    "# load model\n",
    "model = load_model('model.h5')"
   ]
  },
  {
   "cell_type": "code",
   "execution_count": 127,
   "metadata": {},
   "outputs": [
    {
     "name": "stdout",
     "output_type": "stream",
     "text": [
      "TRAINING DATASET:\n",
      "\n",
      "German: ist das fur mich,\n",
      "Correct English Translation=is it for me,\n",
      "Predicted English Translation=is it for me\n",
      "\n",
      "German: ich habe kaviar gegessen,\n",
      "Correct English Translation=i ate caviar,\n",
      "Predicted English Translation=i ate caviar\n",
      "\n",
      "German: das ist eine pflanze,\n",
      "Correct English Translation=its a plant,\n",
      "Predicted English Translation=its a plant\n",
      "\n",
      "German: das ist ein tisch,\n",
      "Correct English Translation=that is a table,\n",
      "Predicted English Translation=thats a a\n",
      "\n",
      "German: sie schoss auf ihn,\n",
      "Correct English Translation=she shot him,\n",
      "Predicted English Translation=she adores him\n",
      "\n",
      "German: du bist durchtrieben,\n",
      "Correct English Translation=youre sharp,\n",
      "Predicted English Translation=youre sharp\n",
      "\n",
      "German: entledigen sie sich ihrer,\n",
      "Correct English Translation=get rid of her,\n",
      "Predicted English Translation=get rid of her\n",
      "\n",
      "German: rate wer ich bin,\n",
      "Correct English Translation=guess who i am,\n",
      "Predicted English Translation=save what i am\n",
      "\n",
      "German: tom kann antworten,\n",
      "Correct English Translation=tom can answer,\n",
      "Predicted English Translation=tom can yes\n",
      "\n",
      "German: ich bin so glucklich,\n",
      "Correct English Translation=im so happy,\n",
      "Predicted English Translation=im am happy\n",
      "\n",
      "BLEU Score: 0.119900\n"
     ]
    }
   ],
   "source": [
    "# test on some training sequences after training\n",
    "print('TRAINING DATASET:\\n')\n",
    "evaluate_model(model, eng_tokenizer, trainX, train)"
   ]
  },
  {
   "cell_type": "code",
   "execution_count": 128,
   "metadata": {},
   "outputs": [
    {
     "name": "stdout",
     "output_type": "stream",
     "text": [
      "TESTING DATASET:\n",
      "\n",
      "German: tom kennt pistolen,\n",
      "Correct English Translation=tom knows guns,\n",
      "Predicted English Translation=tom knows her\n",
      "\n",
      "German: tom ist brav,\n",
      "Correct English Translation=tom is good,\n",
      "Predicted English Translation=toms is\n",
      "\n",
      "German: tom hat verloren,\n",
      "Correct English Translation=tom lost,\n",
      "Predicted English Translation=tom stopped\n",
      "\n",
      "German: wer ist gefallen,\n",
      "Correct English Translation=who fell,\n",
      "Predicted English Translation=who swam\n",
      "\n",
      "German: tom kennt mich,\n",
      "Correct English Translation=tom knows me,\n",
      "Predicted English Translation=tom knows me\n",
      "\n",
      "German: sie sind wach,\n",
      "Correct English Translation=theyre awake,\n",
      "Predicted English Translation=theyre sharp\n",
      "\n",
      "German: dort ist tom,\n",
      "Correct English Translation=theres tom,\n",
      "Predicted English Translation=here is tom\n",
      "\n",
      "German: wir schauten nach oben,\n",
      "Correct English Translation=we looked up,\n",
      "Predicted English Translation=we tried again\n",
      "\n",
      "German: kannst du mir helfen,\n",
      "Correct English Translation=can you help me,\n",
      "Predicted English Translation=can you help me\n",
      "\n",
      "German: es muss hier sein,\n",
      "Correct English Translation=it must be here,\n",
      "Predicted English Translation=it was be home\n",
      "\n",
      "BLEU Score: 0.149673\n"
     ]
    }
   ],
   "source": [
    "# test on some test sequences after training\n",
    "print('TESTING DATASET:\\n')\n",
    "evaluate_model(model, eng_tokenizer, testX, test)"
   ]
  },
  {
   "cell_type": "code",
   "execution_count": null,
   "metadata": {},
   "outputs": [],
   "source": []
  }
 ],
 "metadata": {
  "kernelspec": {
   "display_name": "Python [default]",
   "language": "python",
   "name": "python3"
  },
  "language_info": {
   "codemirror_mode": {
    "name": "ipython",
    "version": 3
   },
   "file_extension": ".py",
   "mimetype": "text/x-python",
   "name": "python",
   "nbconvert_exporter": "python",
   "pygments_lexer": "ipython3",
   "version": "3.6.5"
  }
 },
 "nbformat": 4,
 "nbformat_minor": 2
}
